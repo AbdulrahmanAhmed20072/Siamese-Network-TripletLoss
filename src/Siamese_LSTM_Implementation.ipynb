{
  "cells": [
    {
      "cell_type": "markdown",
      "metadata": {
        "id": "aqCcWJA9jhOW"
      },
      "source": [
        "#Part 1: Importing the Data"
      ]
    },
    {
      "cell_type": "code",
      "source": [
        "!pip install -q numpy==1.26.4 pandas==2.2.2 tensorflow==2.17.1"
      ],
      "metadata": {
        "id": "0ehPM985bQQf"
      },
      "execution_count": 42,
      "outputs": []
    },
    {
      "cell_type": "code",
      "execution_count": 2,
      "metadata": {
        "id": "HawYEee99wZX"
      },
      "outputs": [],
      "source": [
        "import os\n",
        "import numpy as np\n",
        "import pandas as pd\n",
        "import tensorflow as tf\n",
        "\n",
        "# random seeds for replication\n",
        "tf.keras.utils.set_random_seed(33)"
      ]
    },
    {
      "cell_type": "code",
      "execution_count": 3,
      "metadata": {
        "colab": {
          "base_uri": "https://localhost:8080/",
          "height": 206
        },
        "collapsed": true,
        "id": "HC2_9SFd7OCk",
        "outputId": "4043edfe-a93a-488b-bfd5-d156f8a61c9c"
      },
      "outputs": [
        {
          "output_type": "execute_result",
          "data": {
            "text/plain": [
              "   id  qid1  qid2                                          question1  \\\n",
              "0   0     1     2  What is the step by step guide to invest in sh...   \n",
              "1   1     3     4  What is the story of Kohinoor (Koh-i-Noor) Dia...   \n",
              "2   2     5     6  How can I increase the speed of my internet co...   \n",
              "3   3     7     8  Why am I mentally very lonely? How can I solve...   \n",
              "4   4     9    10  Which one dissolve in water quikly sugar, salt...   \n",
              "\n",
              "                                           question2  is_duplicate  \n",
              "0  What is the step by step guide to invest in sh...             0  \n",
              "1  What would happen if the Indian government sto...             0  \n",
              "2  How can Internet speed be increased by hacking...             0  \n",
              "3  Find the remainder when [math]23^{24}[/math] i...             0  \n",
              "4            Which fish would survive in salt water?             0  "
            ],
            "text/html": [
              "\n",
              "  <div id=\"df-54ac74d7-6974-42fb-95bc-b7591f31ec99\" class=\"colab-df-container\">\n",
              "    <div>\n",
              "<style scoped>\n",
              "    .dataframe tbody tr th:only-of-type {\n",
              "        vertical-align: middle;\n",
              "    }\n",
              "\n",
              "    .dataframe tbody tr th {\n",
              "        vertical-align: top;\n",
              "    }\n",
              "\n",
              "    .dataframe thead th {\n",
              "        text-align: right;\n",
              "    }\n",
              "</style>\n",
              "<table border=\"1\" class=\"dataframe\">\n",
              "  <thead>\n",
              "    <tr style=\"text-align: right;\">\n",
              "      <th></th>\n",
              "      <th>id</th>\n",
              "      <th>qid1</th>\n",
              "      <th>qid2</th>\n",
              "      <th>question1</th>\n",
              "      <th>question2</th>\n",
              "      <th>is_duplicate</th>\n",
              "    </tr>\n",
              "  </thead>\n",
              "  <tbody>\n",
              "    <tr>\n",
              "      <th>0</th>\n",
              "      <td>0</td>\n",
              "      <td>1</td>\n",
              "      <td>2</td>\n",
              "      <td>What is the step by step guide to invest in sh...</td>\n",
              "      <td>What is the step by step guide to invest in sh...</td>\n",
              "      <td>0</td>\n",
              "    </tr>\n",
              "    <tr>\n",
              "      <th>1</th>\n",
              "      <td>1</td>\n",
              "      <td>3</td>\n",
              "      <td>4</td>\n",
              "      <td>What is the story of Kohinoor (Koh-i-Noor) Dia...</td>\n",
              "      <td>What would happen if the Indian government sto...</td>\n",
              "      <td>0</td>\n",
              "    </tr>\n",
              "    <tr>\n",
              "      <th>2</th>\n",
              "      <td>2</td>\n",
              "      <td>5</td>\n",
              "      <td>6</td>\n",
              "      <td>How can I increase the speed of my internet co...</td>\n",
              "      <td>How can Internet speed be increased by hacking...</td>\n",
              "      <td>0</td>\n",
              "    </tr>\n",
              "    <tr>\n",
              "      <th>3</th>\n",
              "      <td>3</td>\n",
              "      <td>7</td>\n",
              "      <td>8</td>\n",
              "      <td>Why am I mentally very lonely? How can I solve...</td>\n",
              "      <td>Find the remainder when [math]23^{24}[/math] i...</td>\n",
              "      <td>0</td>\n",
              "    </tr>\n",
              "    <tr>\n",
              "      <th>4</th>\n",
              "      <td>4</td>\n",
              "      <td>9</td>\n",
              "      <td>10</td>\n",
              "      <td>Which one dissolve in water quikly sugar, salt...</td>\n",
              "      <td>Which fish would survive in salt water?</td>\n",
              "      <td>0</td>\n",
              "    </tr>\n",
              "  </tbody>\n",
              "</table>\n",
              "</div>\n",
              "    <div class=\"colab-df-buttons\">\n",
              "\n",
              "  <div class=\"colab-df-container\">\n",
              "    <button class=\"colab-df-convert\" onclick=\"convertToInteractive('df-54ac74d7-6974-42fb-95bc-b7591f31ec99')\"\n",
              "            title=\"Convert this dataframe to an interactive table.\"\n",
              "            style=\"display:none;\">\n",
              "\n",
              "  <svg xmlns=\"http://www.w3.org/2000/svg\" height=\"24px\" viewBox=\"0 -960 960 960\">\n",
              "    <path d=\"M120-120v-720h720v720H120Zm60-500h600v-160H180v160Zm220 220h160v-160H400v160Zm0 220h160v-160H400v160ZM180-400h160v-160H180v160Zm440 0h160v-160H620v160ZM180-180h160v-160H180v160Zm440 0h160v-160H620v160Z\"/>\n",
              "  </svg>\n",
              "    </button>\n",
              "\n",
              "  <style>\n",
              "    .colab-df-container {\n",
              "      display:flex;\n",
              "      gap: 12px;\n",
              "    }\n",
              "\n",
              "    .colab-df-convert {\n",
              "      background-color: #E8F0FE;\n",
              "      border: none;\n",
              "      border-radius: 50%;\n",
              "      cursor: pointer;\n",
              "      display: none;\n",
              "      fill: #1967D2;\n",
              "      height: 32px;\n",
              "      padding: 0 0 0 0;\n",
              "      width: 32px;\n",
              "    }\n",
              "\n",
              "    .colab-df-convert:hover {\n",
              "      background-color: #E2EBFA;\n",
              "      box-shadow: 0px 1px 2px rgba(60, 64, 67, 0.3), 0px 1px 3px 1px rgba(60, 64, 67, 0.15);\n",
              "      fill: #174EA6;\n",
              "    }\n",
              "\n",
              "    .colab-df-buttons div {\n",
              "      margin-bottom: 4px;\n",
              "    }\n",
              "\n",
              "    [theme=dark] .colab-df-convert {\n",
              "      background-color: #3B4455;\n",
              "      fill: #D2E3FC;\n",
              "    }\n",
              "\n",
              "    [theme=dark] .colab-df-convert:hover {\n",
              "      background-color: #434B5C;\n",
              "      box-shadow: 0px 1px 3px 1px rgba(0, 0, 0, 0.15);\n",
              "      filter: drop-shadow(0px 1px 2px rgba(0, 0, 0, 0.3));\n",
              "      fill: #FFFFFF;\n",
              "    }\n",
              "  </style>\n",
              "\n",
              "    <script>\n",
              "      const buttonEl =\n",
              "        document.querySelector('#df-54ac74d7-6974-42fb-95bc-b7591f31ec99 button.colab-df-convert');\n",
              "      buttonEl.style.display =\n",
              "        google.colab.kernel.accessAllowed ? 'block' : 'none';\n",
              "\n",
              "      async function convertToInteractive(key) {\n",
              "        const element = document.querySelector('#df-54ac74d7-6974-42fb-95bc-b7591f31ec99');\n",
              "        const dataTable =\n",
              "          await google.colab.kernel.invokeFunction('convertToInteractive',\n",
              "                                                    [key], {});\n",
              "        if (!dataTable) return;\n",
              "\n",
              "        const docLinkHtml = 'Like what you see? Visit the ' +\n",
              "          '<a target=\"_blank\" href=https://colab.research.google.com/notebooks/data_table.ipynb>data table notebook</a>'\n",
              "          + ' to learn more about interactive tables.';\n",
              "        element.innerHTML = '';\n",
              "        dataTable['output_type'] = 'display_data';\n",
              "        await google.colab.output.renderOutput(dataTable, element);\n",
              "        const docLink = document.createElement('div');\n",
              "        docLink.innerHTML = docLinkHtml;\n",
              "        element.appendChild(docLink);\n",
              "      }\n",
              "    </script>\n",
              "  </div>\n",
              "\n",
              "\n",
              "<div id=\"df-baf1982a-a78b-4f85-916d-8b0cd523e39f\">\n",
              "  <button class=\"colab-df-quickchart\" onclick=\"quickchart('df-baf1982a-a78b-4f85-916d-8b0cd523e39f')\"\n",
              "            title=\"Suggest charts\"\n",
              "            style=\"display:none;\">\n",
              "\n",
              "<svg xmlns=\"http://www.w3.org/2000/svg\" height=\"24px\"viewBox=\"0 0 24 24\"\n",
              "     width=\"24px\">\n",
              "    <g>\n",
              "        <path d=\"M19 3H5c-1.1 0-2 .9-2 2v14c0 1.1.9 2 2 2h14c1.1 0 2-.9 2-2V5c0-1.1-.9-2-2-2zM9 17H7v-7h2v7zm4 0h-2V7h2v10zm4 0h-2v-4h2v4z\"/>\n",
              "    </g>\n",
              "</svg>\n",
              "  </button>\n",
              "\n",
              "<style>\n",
              "  .colab-df-quickchart {\n",
              "      --bg-color: #E8F0FE;\n",
              "      --fill-color: #1967D2;\n",
              "      --hover-bg-color: #E2EBFA;\n",
              "      --hover-fill-color: #174EA6;\n",
              "      --disabled-fill-color: #AAA;\n",
              "      --disabled-bg-color: #DDD;\n",
              "  }\n",
              "\n",
              "  [theme=dark] .colab-df-quickchart {\n",
              "      --bg-color: #3B4455;\n",
              "      --fill-color: #D2E3FC;\n",
              "      --hover-bg-color: #434B5C;\n",
              "      --hover-fill-color: #FFFFFF;\n",
              "      --disabled-bg-color: #3B4455;\n",
              "      --disabled-fill-color: #666;\n",
              "  }\n",
              "\n",
              "  .colab-df-quickchart {\n",
              "    background-color: var(--bg-color);\n",
              "    border: none;\n",
              "    border-radius: 50%;\n",
              "    cursor: pointer;\n",
              "    display: none;\n",
              "    fill: var(--fill-color);\n",
              "    height: 32px;\n",
              "    padding: 0;\n",
              "    width: 32px;\n",
              "  }\n",
              "\n",
              "  .colab-df-quickchart:hover {\n",
              "    background-color: var(--hover-bg-color);\n",
              "    box-shadow: 0 1px 2px rgba(60, 64, 67, 0.3), 0 1px 3px 1px rgba(60, 64, 67, 0.15);\n",
              "    fill: var(--button-hover-fill-color);\n",
              "  }\n",
              "\n",
              "  .colab-df-quickchart-complete:disabled,\n",
              "  .colab-df-quickchart-complete:disabled:hover {\n",
              "    background-color: var(--disabled-bg-color);\n",
              "    fill: var(--disabled-fill-color);\n",
              "    box-shadow: none;\n",
              "  }\n",
              "\n",
              "  .colab-df-spinner {\n",
              "    border: 2px solid var(--fill-color);\n",
              "    border-color: transparent;\n",
              "    border-bottom-color: var(--fill-color);\n",
              "    animation:\n",
              "      spin 1s steps(1) infinite;\n",
              "  }\n",
              "\n",
              "  @keyframes spin {\n",
              "    0% {\n",
              "      border-color: transparent;\n",
              "      border-bottom-color: var(--fill-color);\n",
              "      border-left-color: var(--fill-color);\n",
              "    }\n",
              "    20% {\n",
              "      border-color: transparent;\n",
              "      border-left-color: var(--fill-color);\n",
              "      border-top-color: var(--fill-color);\n",
              "    }\n",
              "    30% {\n",
              "      border-color: transparent;\n",
              "      border-left-color: var(--fill-color);\n",
              "      border-top-color: var(--fill-color);\n",
              "      border-right-color: var(--fill-color);\n",
              "    }\n",
              "    40% {\n",
              "      border-color: transparent;\n",
              "      border-right-color: var(--fill-color);\n",
              "      border-top-color: var(--fill-color);\n",
              "    }\n",
              "    60% {\n",
              "      border-color: transparent;\n",
              "      border-right-color: var(--fill-color);\n",
              "    }\n",
              "    80% {\n",
              "      border-color: transparent;\n",
              "      border-right-color: var(--fill-color);\n",
              "      border-bottom-color: var(--fill-color);\n",
              "    }\n",
              "    90% {\n",
              "      border-color: transparent;\n",
              "      border-bottom-color: var(--fill-color);\n",
              "    }\n",
              "  }\n",
              "</style>\n",
              "\n",
              "  <script>\n",
              "    async function quickchart(key) {\n",
              "      const quickchartButtonEl =\n",
              "        document.querySelector('#' + key + ' button');\n",
              "      quickchartButtonEl.disabled = true;  // To prevent multiple clicks.\n",
              "      quickchartButtonEl.classList.add('colab-df-spinner');\n",
              "      try {\n",
              "        const charts = await google.colab.kernel.invokeFunction(\n",
              "            'suggestCharts', [key], {});\n",
              "      } catch (error) {\n",
              "        console.error('Error during call to suggestCharts:', error);\n",
              "      }\n",
              "      quickchartButtonEl.classList.remove('colab-df-spinner');\n",
              "      quickchartButtonEl.classList.add('colab-df-quickchart-complete');\n",
              "    }\n",
              "    (() => {\n",
              "      let quickchartButtonEl =\n",
              "        document.querySelector('#df-baf1982a-a78b-4f85-916d-8b0cd523e39f button');\n",
              "      quickchartButtonEl.style.display =\n",
              "        google.colab.kernel.accessAllowed ? 'block' : 'none';\n",
              "    })();\n",
              "  </script>\n",
              "</div>\n",
              "\n",
              "    </div>\n",
              "  </div>\n"
            ],
            "application/vnd.google.colaboratory.intrinsic+json": {
              "type": "dataframe",
              "variable_name": "data"
            }
          },
          "metadata": {},
          "execution_count": 3
        }
      ],
      "source": [
        "data = pd.read_csv('questions.csv')\n",
        "data.head()"
      ]
    },
    {
      "cell_type": "code",
      "execution_count": 4,
      "metadata": {
        "colab": {
          "base_uri": "https://localhost:8080/"
        },
        "id": "T73kCuMzSb-o",
        "outputId": "796b4f78-7a70-4f72-faf9-d3874b42a748"
      },
      "outputs": [
        {
          "output_type": "execute_result",
          "data": {
            "text/plain": [
              "(404351, 6)"
            ]
          },
          "metadata": {},
          "execution_count": 4
        }
      ],
      "source": [
        "data.shape"
      ]
    },
    {
      "cell_type": "code",
      "execution_count": 5,
      "metadata": {
        "colab": {
          "base_uri": "https://localhost:8080/"
        },
        "id": "zm81k49YSuJp",
        "outputId": "2d53f329-72d5-472e-92c0-30a597c190ef"
      },
      "outputs": [
        {
          "output_type": "stream",
          "name": "stdout",
          "text": [
            "Train set: 300000 Test set: 10000\n"
          ]
        }
      ],
      "source": [
        "N_train = 300000\n",
        "N_test = 10000\n",
        "\n",
        "data_train = data[:N_train]\n",
        "data_test = data[N_train : N_train + N_test]\n",
        "print(\"Train set:\", len(data_train), \"Test set:\", len(data_test))\n"
      ]
    },
    {
      "cell_type": "code",
      "execution_count": 6,
      "metadata": {
        "id": "ge9rh1DzS1UO"
      },
      "outputs": [],
      "source": [
        "all_train_dup = data_train[data_train['is_duplicate'] == 1]\n",
        "\n",
        "Q1_train = np.array(all_train_dup['question1'])\n",
        "Q2_train = np.array(all_train_dup['question2'])\n",
        "\n",
        "Q1_test = np.array(data_test['question1'])\n",
        "Q2_test = np.array(data_test['question2'])"
      ]
    },
    {
      "cell_type": "code",
      "execution_count": 7,
      "metadata": {
        "colab": {
          "base_uri": "https://localhost:8080/"
        },
        "id": "f4TJcs6y_ec-",
        "outputId": "4bdd85df-53b4-47d5-930f-a3b7ff44a6a8"
      },
      "outputs": [
        {
          "output_type": "stream",
          "name": "stdout",
          "text": [
            "TRAINING QUESTIONS:\n",
            "\n",
            "Question 1:  Astrology: I am a Capricorn Sun Cap moon and cap rising...what does that say about me?\n",
            "Question 2:  I'm a triple Capricorn (Sun, Moon and ascendant in Capricorn) What does this say about me? \n",
            "\n",
            "Question 1:  What would a Trump presidency mean for current international master’s students on an F1 visa?\n",
            "Question 2:  How will a Trump presidency affect the students presently in US or planning to study in US? \n",
            "\n",
            "TESTING QUESTIONS:\n",
            "\n",
            "Question 1:  How do I prepare for interviews for cse?\n",
            "Question 2:  What is the best way to prepare for cse? \n",
            "\n"
          ]
        }
      ],
      "source": [
        "print('TRAINING QUESTIONS:\\n')\n",
        "print('Question 1: ', Q1_train[0])\n",
        "print('Question 2: ', Q2_train[0], '\\n')\n",
        "print('Question 1: ', Q1_train[5])\n",
        "print('Question 2: ', Q2_train[5], '\\n')\n",
        "\n",
        "print('TESTING QUESTIONS:\\n')\n",
        "print('Question 1: ', Q1_test[0])\n",
        "print('Question 2: ', Q2_test[0], '\\n')"
      ]
    },
    {
      "cell_type": "code",
      "execution_count": 8,
      "metadata": {
        "id": "TYrfcaVPALLL"
      },
      "outputs": [],
      "source": [
        "# divide training into training and validation\n",
        "cut_off = int(len(Q1_train) * 0.8)\n",
        "\n",
        "train_Q1 = Q1_train[:cut_off]\n",
        "train_Q2 = Q2_train[:cut_off]\n",
        "\n",
        "val_Q1 = Q1_train[cut_off:]\n",
        "val_Q2 = Q2_train[cut_off:]"
      ]
    },
    {
      "cell_type": "code",
      "execution_count": 9,
      "metadata": {
        "colab": {
          "base_uri": "https://localhost:8080/"
        },
        "id": "Vf4tr_MgA1Ot",
        "outputId": "0dcb684e-a672-435f-b1f1-845e4bdbd857"
      },
      "outputs": [
        {
          "output_type": "stream",
          "name": "stdout",
          "text": [
            "Number of duplicate questions:  111486\n",
            "The length of the training set is:   89188\n",
            "The length of the validation set is:  22298\n"
          ]
        }
      ],
      "source": [
        "print('Number of duplicate questions: ', len(Q1_train))\n",
        "print(\"The length of the training set is:  \", len(train_Q1))\n",
        "print(\"The length of the validation set is: \", len(val_Q1))"
      ]
    },
    {
      "cell_type": "code",
      "execution_count": 10,
      "metadata": {
        "id": "Ei37UqGkBruE"
      },
      "outputs": [],
      "source": [
        "# build vocab using TextVectorization\n",
        "text_vectorization = tf.keras.layers.TextVectorization(standardize = 'strip_punctuation')\n",
        "text_vectorization.adapt(np.concatenate((train_Q1,train_Q2)))"
      ]
    },
    {
      "cell_type": "code",
      "execution_count": 11,
      "metadata": {
        "colab": {
          "base_uri": "https://localhost:8080/"
        },
        "id": "HeEbnZgDDKX1",
        "outputId": "5ddc52cb-3d31-4a00-ea09-8ac515c325b2"
      },
      "outputs": [
        {
          "output_type": "execute_result",
          "data": {
            "text/plain": [
              "32819"
            ]
          },
          "metadata": {},
          "execution_count": 11
        }
      ],
      "source": [
        "text_vectorization.vocabulary_size()"
      ]
    },
    {
      "cell_type": "code",
      "execution_count": 12,
      "metadata": {
        "colab": {
          "base_uri": "https://localhost:8080/"
        },
        "id": "nHMSsR4yFX9j",
        "outputId": "1592fd0e-6551-431a-b0a0-a3b50eefadde"
      },
      "outputs": [
        {
          "output_type": "stream",
          "name": "stdout",
          "text": [
            "first question in the train set:\n",
            "\n",
            "Astrology: I am a Capricorn Sun Cap moon and cap rising...what does that say about me? \n",
            "\n",
            "encoded version:\n",
            "tf.Tensor(\n",
            "[ 6123     6   178    10  9079  2220 32055   788    13  6047 25433    30\n",
            "    28   463    45    98], shape=(16,), dtype=int64) \n",
            "\n",
            "first question in the test set:\n",
            "\n",
            "How do I prepare for interviews for cse? \n",
            "\n",
            "encoded version:\n",
            "tf.Tensor([    4     8     6   157    17  1909    17 11616], shape=(8,), dtype=int64)\n"
          ]
        }
      ],
      "source": [
        "print('first question in the train set:\\n')\n",
        "print(Q1_train[0], '\\n')\n",
        "print('encoded version:')\n",
        "print(text_vectorization(Q1_train[0]),'\\n')\n",
        "\n",
        "print('first question in the test set:\\n')\n",
        "print(Q1_test[0], '\\n')\n",
        "print('encoded version:')\n",
        "print(text_vectorization(Q1_test[0]) )"
      ]
    },
    {
      "cell_type": "markdown",
      "metadata": {
        "id": "bvwqMtTGjzcH"
      },
      "source": [
        "#Part 2: Defining the Siamese model"
      ]
    },
    {
      "cell_type": "code",
      "execution_count": 13,
      "metadata": {
        "id": "TD_Mj4t-qprE"
      },
      "outputs": [],
      "source": [
        "def Siamese(text_vectorization, vocab_size, embed_dim):\n",
        "\n",
        "    model = tf.keras.models.Sequential([\n",
        "\n",
        "        text_vectorization,\n",
        "        tf.keras.layers.Embedding(vocab_size, embed_dim),\n",
        "        tf.keras.layers.LSTM(embed_dim ,return_sequences=True),\n",
        "        # reduce dimensions from (batch_size, seq_len, hidden_dim) to (batch_size, hidden_dim)\n",
        "        tf.keras.layers.GlobalAveragePooling1D(),\n",
        "        # The Lambda layer in Keras is a way to wrap arbitrary TensorFlow\n",
        "        # operations (like tf.math.l2_normalize) into a layer that Keras can understand\n",
        "        tf.keras.layers.Lambda(lambda x: tf.math.l2_normalize(x,axis = -1)),\n",
        "    ])\n",
        "\n",
        "    input1 = tf.keras.layers.Input((1,), dtype = tf.string, name='input_1')\n",
        "    input2 = tf.keras.layers.Input((1,), dtype = tf.string, name='input_2')\n",
        "\n",
        "    model1 = model(input1)\n",
        "    model2 = model(input2)\n",
        "\n",
        "    output = tf.keras.layers.concatenate([model1, model2],axis = -1)\n",
        "\n",
        "    return tf.keras.models.Model(inputs = (input1, input2), outputs = output)"
      ]
    },
    {
      "cell_type": "code",
      "execution_count": 14,
      "metadata": {
        "id": "7hGeawi57f_u"
      },
      "outputs": [],
      "source": [
        "vocab_size = text_vectorization.vocabulary_size()\n",
        "embed_dim = 128\n",
        "model = Siamese(text_vectorization, vocab_size, embed_dim)"
      ]
    },
    {
      "cell_type": "code",
      "source": [
        "model.summary()"
      ],
      "metadata": {
        "colab": {
          "base_uri": "https://localhost:8080/",
          "height": 306
        },
        "id": "2IJd_VPCMOc0",
        "outputId": "c2065d4c-0d34-474e-f2e6-d48e650b7c19"
      },
      "execution_count": 15,
      "outputs": [
        {
          "output_type": "display_data",
          "data": {
            "text/plain": [
              "\u001b[1mModel: \"functional_1\"\u001b[0m\n"
            ],
            "text/html": [
              "<pre style=\"white-space:pre;overflow-x:auto;line-height:normal;font-family:Menlo,'DejaVu Sans Mono',consolas,'Courier New',monospace\"><span style=\"font-weight: bold\">Model: \"functional_1\"</span>\n",
              "</pre>\n"
            ]
          },
          "metadata": {}
        },
        {
          "output_type": "display_data",
          "data": {
            "text/plain": [
              "┏━━━━━━━━━━━━━━━━━━━━━━━━━━━┳━━━━━━━━━━━━━━━━━━━━━━━━┳━━━━━━━━━━━━━━━━┳━━━━━━━━━━━━━━━━━━━━━━━━┓\n",
              "┃\u001b[1m \u001b[0m\u001b[1mLayer (type)             \u001b[0m\u001b[1m \u001b[0m┃\u001b[1m \u001b[0m\u001b[1mOutput Shape          \u001b[0m\u001b[1m \u001b[0m┃\u001b[1m \u001b[0m\u001b[1m       Param #\u001b[0m\u001b[1m \u001b[0m┃\u001b[1m \u001b[0m\u001b[1mConnected to          \u001b[0m\u001b[1m \u001b[0m┃\n",
              "┡━━━━━━━━━━━━━━━━━━━━━━━━━━━╇━━━━━━━━━━━━━━━━━━━━━━━━╇━━━━━━━━━━━━━━━━╇━━━━━━━━━━━━━━━━━━━━━━━━┩\n",
              "│ input_1 (\u001b[38;5;33mInputLayer\u001b[0m)      │ (\u001b[38;5;45mNone\u001b[0m, \u001b[38;5;34m1\u001b[0m)              │              \u001b[38;5;34m0\u001b[0m │ -                      │\n",
              "├───────────────────────────┼────────────────────────┼────────────────┼────────────────────────┤\n",
              "│ input_2 (\u001b[38;5;33mInputLayer\u001b[0m)      │ (\u001b[38;5;45mNone\u001b[0m, \u001b[38;5;34m1\u001b[0m)              │              \u001b[38;5;34m0\u001b[0m │ -                      │\n",
              "├───────────────────────────┼────────────────────────┼────────────────┼────────────────────────┤\n",
              "│ sequential (\u001b[38;5;33mSequential\u001b[0m)   │ (\u001b[38;5;45mNone\u001b[0m, \u001b[38;5;34m128\u001b[0m)            │      \u001b[38;5;34m4,332,416\u001b[0m │ input_1[\u001b[38;5;34m0\u001b[0m][\u001b[38;5;34m0\u001b[0m],         │\n",
              "│                           │                        │                │ input_2[\u001b[38;5;34m0\u001b[0m][\u001b[38;5;34m0\u001b[0m]          │\n",
              "├───────────────────────────┼────────────────────────┼────────────────┼────────────────────────┤\n",
              "│ concatenate (\u001b[38;5;33mConcatenate\u001b[0m) │ (\u001b[38;5;45mNone\u001b[0m, \u001b[38;5;34m256\u001b[0m)            │              \u001b[38;5;34m0\u001b[0m │ sequential[\u001b[38;5;34m0\u001b[0m][\u001b[38;5;34m0\u001b[0m],      │\n",
              "│                           │                        │                │ sequential[\u001b[38;5;34m1\u001b[0m][\u001b[38;5;34m0\u001b[0m]       │\n",
              "└───────────────────────────┴────────────────────────┴────────────────┴────────────────────────┘\n"
            ],
            "text/html": [
              "<pre style=\"white-space:pre;overflow-x:auto;line-height:normal;font-family:Menlo,'DejaVu Sans Mono',consolas,'Courier New',monospace\">┏━━━━━━━━━━━━━━━━━━━━━━━━━━━┳━━━━━━━━━━━━━━━━━━━━━━━━┳━━━━━━━━━━━━━━━━┳━━━━━━━━━━━━━━━━━━━━━━━━┓\n",
              "┃<span style=\"font-weight: bold\"> Layer (type)              </span>┃<span style=\"font-weight: bold\"> Output Shape           </span>┃<span style=\"font-weight: bold\">        Param # </span>┃<span style=\"font-weight: bold\"> Connected to           </span>┃\n",
              "┡━━━━━━━━━━━━━━━━━━━━━━━━━━━╇━━━━━━━━━━━━━━━━━━━━━━━━╇━━━━━━━━━━━━━━━━╇━━━━━━━━━━━━━━━━━━━━━━━━┩\n",
              "│ input_1 (<span style=\"color: #0087ff; text-decoration-color: #0087ff\">InputLayer</span>)      │ (<span style=\"color: #00d7ff; text-decoration-color: #00d7ff\">None</span>, <span style=\"color: #00af00; text-decoration-color: #00af00\">1</span>)              │              <span style=\"color: #00af00; text-decoration-color: #00af00\">0</span> │ -                      │\n",
              "├───────────────────────────┼────────────────────────┼────────────────┼────────────────────────┤\n",
              "│ input_2 (<span style=\"color: #0087ff; text-decoration-color: #0087ff\">InputLayer</span>)      │ (<span style=\"color: #00d7ff; text-decoration-color: #00d7ff\">None</span>, <span style=\"color: #00af00; text-decoration-color: #00af00\">1</span>)              │              <span style=\"color: #00af00; text-decoration-color: #00af00\">0</span> │ -                      │\n",
              "├───────────────────────────┼────────────────────────┼────────────────┼────────────────────────┤\n",
              "│ sequential (<span style=\"color: #0087ff; text-decoration-color: #0087ff\">Sequential</span>)   │ (<span style=\"color: #00d7ff; text-decoration-color: #00d7ff\">None</span>, <span style=\"color: #00af00; text-decoration-color: #00af00\">128</span>)            │      <span style=\"color: #00af00; text-decoration-color: #00af00\">4,332,416</span> │ input_1[<span style=\"color: #00af00; text-decoration-color: #00af00\">0</span>][<span style=\"color: #00af00; text-decoration-color: #00af00\">0</span>],         │\n",
              "│                           │                        │                │ input_2[<span style=\"color: #00af00; text-decoration-color: #00af00\">0</span>][<span style=\"color: #00af00; text-decoration-color: #00af00\">0</span>]          │\n",
              "├───────────────────────────┼────────────────────────┼────────────────┼────────────────────────┤\n",
              "│ concatenate (<span style=\"color: #0087ff; text-decoration-color: #0087ff\">Concatenate</span>) │ (<span style=\"color: #00d7ff; text-decoration-color: #00d7ff\">None</span>, <span style=\"color: #00af00; text-decoration-color: #00af00\">256</span>)            │              <span style=\"color: #00af00; text-decoration-color: #00af00\">0</span> │ sequential[<span style=\"color: #00af00; text-decoration-color: #00af00\">0</span>][<span style=\"color: #00af00; text-decoration-color: #00af00\">0</span>],      │\n",
              "│                           │                        │                │ sequential[<span style=\"color: #00af00; text-decoration-color: #00af00\">1</span>][<span style=\"color: #00af00; text-decoration-color: #00af00\">0</span>]       │\n",
              "└───────────────────────────┴────────────────────────┴────────────────┴────────────────────────┘\n",
              "</pre>\n"
            ]
          },
          "metadata": {}
        },
        {
          "output_type": "display_data",
          "data": {
            "text/plain": [
              "\u001b[1m Total params: \u001b[0m\u001b[38;5;34m4,332,416\u001b[0m (16.53 MB)\n"
            ],
            "text/html": [
              "<pre style=\"white-space:pre;overflow-x:auto;line-height:normal;font-family:Menlo,'DejaVu Sans Mono',consolas,'Courier New',monospace\"><span style=\"font-weight: bold\"> Total params: </span><span style=\"color: #00af00; text-decoration-color: #00af00\">4,332,416</span> (16.53 MB)\n",
              "</pre>\n"
            ]
          },
          "metadata": {}
        },
        {
          "output_type": "display_data",
          "data": {
            "text/plain": [
              "\u001b[1m Trainable params: \u001b[0m\u001b[38;5;34m4,332,416\u001b[0m (16.53 MB)\n"
            ],
            "text/html": [
              "<pre style=\"white-space:pre;overflow-x:auto;line-height:normal;font-family:Menlo,'DejaVu Sans Mono',consolas,'Courier New',monospace\"><span style=\"font-weight: bold\"> Trainable params: </span><span style=\"color: #00af00; text-decoration-color: #00af00\">4,332,416</span> (16.53 MB)\n",
              "</pre>\n"
            ]
          },
          "metadata": {}
        },
        {
          "output_type": "display_data",
          "data": {
            "text/plain": [
              "\u001b[1m Non-trainable params: \u001b[0m\u001b[38;5;34m0\u001b[0m (0.00 B)\n"
            ],
            "text/html": [
              "<pre style=\"white-space:pre;overflow-x:auto;line-height:normal;font-family:Menlo,'DejaVu Sans Mono',consolas,'Courier New',monospace\"><span style=\"font-weight: bold\"> Non-trainable params: </span><span style=\"color: #00af00; text-decoration-color: #00af00\">0</span> (0.00 B)\n",
              "</pre>\n"
            ]
          },
          "metadata": {}
        }
      ]
    },
    {
      "cell_type": "code",
      "execution_count": 16,
      "metadata": {
        "id": "9jVtPJysCcRR"
      },
      "outputs": [],
      "source": [
        "# model waits 2 inputs\n",
        "input_1 = tf.constant([train_Q1[0]])\n",
        "input_2 = tf.constant([train_Q2[0]])\n",
        "\n",
        "predictions = model((input_1, input_2))"
      ]
    },
    {
      "cell_type": "code",
      "execution_count": 17,
      "metadata": {
        "colab": {
          "base_uri": "https://localhost:8080/"
        },
        "id": "-42ribJCECvj",
        "outputId": "8b853e10-a2a5-49f2-d4e3-9d0153fa5467"
      },
      "outputs": [
        {
          "output_type": "execute_result",
          "data": {
            "text/plain": [
              "TensorShape([1, 256])"
            ]
          },
          "metadata": {},
          "execution_count": 17
        }
      ],
      "source": [
        "# the model output shape is [1, 256] because the hidden dim is 128, and we concatenate 2 models together\n",
        "predictions.shape"
      ]
    },
    {
      "cell_type": "code",
      "execution_count": 18,
      "metadata": {
        "colab": {
          "base_uri": "https://localhost:8080/",
          "height": 625
        },
        "id": "AvcqARK9EvWi",
        "outputId": "6f90d727-abfc-4570-c6b2-5632e8b96a49"
      },
      "outputs": [
        {
          "output_type": "execute_result",
          "data": {
            "image/png": "[encoded data removed]",
            "text/plain": [
              "<IPython.core.display.Image object>"
            ]
          },
          "metadata": {},
          "execution_count": 18
        }
      ],
      "source": [
        "tf.keras.utils.plot_model(\n",
        "    model,\n",
        "    to_file=\"model.png\",\n",
        "    show_shapes=True,\n",
        "    show_dtype=True,\n",
        "    show_layer_names=True,\n",
        "    rankdir=\"TB\",\n",
        "    expand_nested=True)"
      ]
    },
    {
      "cell_type": "markdown",
      "source": [
        "#triplet loss"
      ],
      "metadata": {
        "id": "d_LNPRshZQ66"
      }
    },
    {
      "cell_type": "code",
      "execution_count": 19,
      "metadata": {
        "id": "EgVS4if4EyYr"
      },
      "outputs": [],
      "source": [
        "def TripletLossFn(v1, v2,  margin = 0.25):\n",
        "\n",
        "    \"Custom Loss function\"\n",
        "\n",
        "    # use `tf.linalg.matmul` to take the dot product of the two batches.\n",
        "    # Don't forget to transpose the second argument using `transpose_b=True`\n",
        "    scores = tf.linalg.matmul(\n",
        "        tf.linalg.l2_normalize(v2, axis=1),\n",
        "        tf.linalg.l2_normalize(v1, axis=1),\n",
        "        transpose_b=True\n",
        "    )\n",
        "    # calculate new batch size and cast it as the same datatype as scores.\n",
        "\n",
        "    batch_size = tf.cast(tf.shape(v1)[0], scores.dtype)\n",
        "    # get the cosine similarity of all positive examples (diagonal)\n",
        "    positive = tf.linalg.diag_part(scores)\n",
        "    # subtract the diagonal from scores. You can do this by creating a diagonal matrix with the values\n",
        "    # of all positive examples using `tf.linalg.diag`\n",
        "    negative_zero_on_duplicate = scores - tf.linalg.diag(positive)\n",
        "    # use `tf.math.reduce_sum` on `negative_zero_on_duplicate` for `axis=1` and divide it by `(batch_size - 1)`\n",
        "    mean_negative = tf.math.reduce_sum(negative_zero_on_duplicate, axis=1) / (batch_size-1)\n",
        "    # create a composition of two masks:\n",
        "    # the first mask to extract the diagonal elements (make sure you use the variable batch_size here),\n",
        "    # the second mask to extract elements in the negative_zero_on_duplicate matrix that are larger than the elements in the diagonal\n",
        "    mask_exclude_positives = (tf.eye(batch_size)==1)|(negative_zero_on_duplicate > tf.expand_dims(positive,1))\n",
        "    mask_exclude_positives = tf.cast(mask_exclude_positives, scores.dtype)\n",
        "\n",
        "    # multiply `mask_exclude_positives` with 2.0 and subtract it out of `negative_zero_on_duplicate`\n",
        "    negative_without_positive = negative_zero_on_duplicate - 2.0 * mask_exclude_positives\n",
        "    # take the row by row `max` of `negative_without_positive`.\n",
        "    # Hint: `tf.math.reduce_max(negative_without_positive, axis = None)`\n",
        "    closest_negative = tf.math.reduce_max(negative_without_positive, axis=1)\n",
        "    # compute `tf.maximum` among 0.0 and `A`\n",
        "    # A = subtract `positive` from `margin` and add `closest_negative`\n",
        "    triplet_loss1 = tf.maximum(0.0, closest_negative - positive + margin)\n",
        "    # compute `tf.maximum` among 0.0 and `B`\n",
        "    # B = subtract `positive` from `margin` and add `mean_negative`\n",
        "    triplet_loss2 = tf.maximum(0.0, mean_negative - positive + margin)\n",
        "    # add the two losses together and take the `tf.math.reduce_sum` of it\n",
        "    triplet_loss = tf.math.reduce_sum(triplet_loss1+triplet_loss2)\n",
        "\n",
        "    return triplet_loss"
      ]
    },
    {
      "cell_type": "code",
      "source": [
        "v1 = np.array([[0.26726124, 0.53452248, 0.80178373],[0.5178918 , 0.57543534, 0.63297887]])\n",
        "v2 = np.array([[ 0.26726124,  0.53452248,  0.80178373],[-0.5178918 , -0.57543534, -0.63297887]])\n",
        "print(\"Triplet Loss:\", TripletLossFn(v1,v2).numpy())"
      ],
      "metadata": {
        "colab": {
          "base_uri": "https://localhost:8080/"
        },
        "id": "A00LeGKcQ2LT",
        "outputId": "d5c74af2-7155-40ee-c4d5-c5a90303e645"
      },
      "execution_count": 20,
      "outputs": [
        {
          "output_type": "stream",
          "name": "stdout",
          "text": [
            "Triplet Loss: 0.703507689728441\n"
          ]
        }
      ]
    },
    {
      "cell_type": "code",
      "source": [
        "def TripletLoss(labels, out, margin=0.25):\n",
        "\n",
        "    _, out_size = out.shape # get embedding size\n",
        "\n",
        "    v1 = out[:,:int(out_size/2)] # Extract v1 from out\n",
        "    v2 = out[:,int(out_size/2):] # Extract v2 from out\n",
        "\n",
        "    return TripletLossFn(v1, v2, margin = margin)"
      ],
      "metadata": {
        "id": "X2FLVtaCQ4z4"
      },
      "execution_count": 21,
      "outputs": []
    },
    {
      "cell_type": "markdown",
      "source": [
        "#training the model"
      ],
      "metadata": {
        "id": "BoQGkrV7ZX6-"
      }
    },
    {
      "cell_type": "code",
      "source": [
        "train_dataset = tf.data.Dataset.from_tensor_slices(\n",
        "    ((train_Q1, train_Q2), # training data\n",
        "     tf.constant([1]*len(train_Q1))) # training labels\n",
        ")\n",
        "\n",
        "val_dataset = tf.data.Dataset.from_tensor_slices(\n",
        "    ((val_Q1, val_Q2), # val data\n",
        "     tf.constant([1]*len(val_Q1))) # val labels\n",
        ")"
      ],
      "metadata": {
        "id": "OT0zJShORDeq"
      },
      "execution_count": 22,
      "outputs": []
    },
    {
      "cell_type": "code",
      "source": [
        "def train_model(Siamese, TripletLoss, text_vectorizer, train_dataset,\n",
        "                val_dataset, train_steps=4, d_feature=128, lr=0.01):\n",
        "\n",
        "    \"Training the Siamese Model\"\n",
        "\n",
        "    # Instantiate your Siamese model\n",
        "    model = Siamese(text_vectorizer,\n",
        "                    vocab_size = text_vectorizer.vocabulary_size(),\n",
        "                    embed_dim = d_feature)\n",
        "\n",
        "    # Compile the model\n",
        "    model.compile(loss=TripletLoss,\n",
        "                  optimizer = tf.keras.optimizers.Adam(learning_rate = lr)\n",
        "            )\n",
        "\n",
        "    # Train the model\n",
        "    model.fit(train_dataset,\n",
        "              epochs = train_steps,\n",
        "              validation_data = val_dataset,\n",
        "             )\n",
        "\n",
        "    return model"
      ],
      "metadata": {
        "id": "PMFvLwbFRjUT"
      },
      "execution_count": 23,
      "outputs": []
    },
    {
      "cell_type": "code",
      "source": [
        "train_steps = 10\n",
        "batch_size = 64\n",
        "\n",
        "train_generator = train_dataset.shuffle(len(train_Q1),\n",
        "                                        seed=7,\n",
        "                                        reshuffle_each_iteration=True).batch(batch_size=batch_size)\n",
        "\n",
        "val_generator = val_dataset.shuffle(len(val_Q1),\n",
        "                                   seed=7,\n",
        "                                   reshuffle_each_iteration=True).batch(batch_size=batch_size)\n",
        "\n",
        "model = train_model(\n",
        "    Siamese = Siamese,\n",
        "    TripletLoss = TripletLoss,\n",
        "    text_vectorizer = text_vectorization,\n",
        "    train_dataset = train_generator,\n",
        "    val_dataset = val_generator,\n",
        "    train_steps = train_steps,\n",
        ")"
      ],
      "metadata": {
        "colab": {
          "base_uri": "https://localhost:8080/"
        },
        "collapsed": true,
        "id": "xtntwqp1R7zz",
        "outputId": "2fb5be09-0502-494f-f341-82c65edfcc73"
      },
      "execution_count": 32,
      "outputs": [
        {
          "output_type": "stream",
          "name": "stdout",
          "text": [
            "Epoch 1/10\n",
            "\u001b[1m1394/1394\u001b[0m \u001b[32m━━━━━━━━━━━━━━━━━━━━\u001b[0m\u001b[37m\u001b[0m \u001b[1m18s\u001b[0m 12ms/step - loss: 9.3946 - val_loss: 2.2471\n",
            "Epoch 2/10\n",
            "\u001b[1m1394/1394\u001b[0m \u001b[32m━━━━━━━━━━━━━━━━━━━━\u001b[0m\u001b[37m\u001b[0m \u001b[1m20s\u001b[0m 11ms/step - loss: 1.6041 - val_loss: 1.7286\n",
            "Epoch 3/10\n",
            "\u001b[1m1394/1394\u001b[0m \u001b[32m━━━━━━━━━━━━━━━━━━━━\u001b[0m\u001b[37m\u001b[0m \u001b[1m21s\u001b[0m 12ms/step - loss: 1.1703 - val_loss: 1.6464\n",
            "Epoch 4/10\n",
            "\u001b[1m1394/1394\u001b[0m \u001b[32m━━━━━━━━━━━━━━━━━━━━\u001b[0m\u001b[37m\u001b[0m \u001b[1m17s\u001b[0m 12ms/step - loss: 1.0655 - val_loss: 1.7011\n",
            "Epoch 5/10\n",
            "\u001b[1m1394/1394\u001b[0m \u001b[32m━━━━━━━━━━━━━━━━━━━━\u001b[0m\u001b[37m\u001b[0m \u001b[1m16s\u001b[0m 12ms/step - loss: 1.0721 - val_loss: 1.6991\n",
            "Epoch 6/10\n",
            "\u001b[1m1394/1394\u001b[0m \u001b[32m━━━━━━━━━━━━━━━━━━━━\u001b[0m\u001b[37m\u001b[0m \u001b[1m21s\u001b[0m 12ms/step - loss: 1.0991 - val_loss: 1.7376\n",
            "Epoch 7/10\n",
            "\u001b[1m1394/1394\u001b[0m \u001b[32m━━━━━━━━━━━━━━━━━━━━\u001b[0m\u001b[37m\u001b[0m \u001b[1m16s\u001b[0m 11ms/step - loss: 1.0962 - val_loss: 1.8259\n",
            "Epoch 8/10\n",
            "\u001b[1m1394/1394\u001b[0m \u001b[32m━━━━━━━━━━━━━━━━━━━━\u001b[0m\u001b[37m\u001b[0m \u001b[1m16s\u001b[0m 11ms/step - loss: 1.1273 - val_loss: 1.8294\n",
            "Epoch 9/10\n",
            "\u001b[1m1394/1394\u001b[0m \u001b[32m━━━━━━━━━━━━━━━━━━━━\u001b[0m\u001b[37m\u001b[0m \u001b[1m22s\u001b[0m 12ms/step - loss: 1.1642 - val_loss: 1.9622\n",
            "Epoch 10/10\n",
            "\u001b[1m1394/1394\u001b[0m \u001b[32m━━━━━━━━━━━━━━━━━━━━\u001b[0m\u001b[37m\u001b[0m \u001b[1m19s\u001b[0m 11ms/step - loss: 1.2029 - val_loss: 1.9829\n"
          ]
        }
      ]
    },
    {
      "cell_type": "code",
      "source": [
        "# save_path = 'weights.keras'\n",
        "# model.save(save_path)"
      ],
      "metadata": {
        "id": "YmPWmf_0SXR6"
      },
      "execution_count": 31,
      "outputs": []
    },
    {
      "cell_type": "code",
      "source": [
        "model.load_weights(save_path)"
      ],
      "metadata": {
        "id": "-LC9SVweTzrc"
      },
      "execution_count": 26,
      "outputs": []
    },
    {
      "cell_type": "markdown",
      "source": [
        "#eval the model"
      ],
      "metadata": {
        "id": "8YIzsy7PZejJ"
      }
    },
    {
      "cell_type": "code",
      "source": [
        "def evaluation(test_Q1, test_Q2, y_test, threshold, model, batch_size=64, verbose=True):\n",
        "\n",
        "    \"Function to test the accuracy of the model.\"\n",
        "\n",
        "    y_pred = []\n",
        "    test_gen = tf.data.Dataset.from_tensor_slices(((test_Q1, test_Q2),None)).batch(batch_size=batch_size)\n",
        "\n",
        "    pred = model.predict(test_gen)\n",
        "    _, n_feat = pred.shape\n",
        "    v1 = pred[:,:int(n_feat/2)]\n",
        "    v2 = pred[:, int(n_feat/2):]\n",
        "\n",
        "    # Compute the cosine similarity. Using `tf.math.reduce_sum`.\n",
        "    # Don't forget to use the appropriate axis argument.\n",
        "    d  = tf.math.reduce_sum(v1*v2, axis=1)/tf.math.sqrt(tf.math.reduce_sum(v1*v1, axis=1)*tf.math.reduce_sum(v2*v2, axis=1))\n",
        "    # Check if d>threshold to make predictions\n",
        "    y_pred = tf.cast(d>threshold, tf.float64)\n",
        "    # take the average of correct predictions to get the accuracy\n",
        "    accuracy = tf.math.reduce_mean(tf.cast(y_pred==y_test, tf.float64))\n",
        "    # compute the confusion matrix using `tf.math.confusion_matrix`\n",
        "    cm = tf.math.confusion_matrix(y_test, y_pred)\n",
        "\n",
        "    return accuracy, cm"
      ],
      "metadata": {
        "id": "aF03NnqlT89w"
      },
      "execution_count": 27,
      "outputs": []
    },
    {
      "cell_type": "code",
      "source": [
        "y_test  = np.array(data_test['is_duplicate'])\n",
        "\n",
        "accuracy, cm = evaluation(Q1_test,Q2_test, y_test, 0.7, model,  batch_size = 64)\n",
        "\n",
        "print(\"Accuracy\", accuracy.numpy())\n",
        "print(f\"Confusion matrix:\\n{cm.numpy()}\")"
      ],
      "metadata": {
        "colab": {
          "base_uri": "https://localhost:8080/"
        },
        "id": "OdhyaqIeU_vF",
        "outputId": "ae638f67-4427-4b6a-9375-b4bdca888441"
      },
      "execution_count": 35,
      "outputs": [
        {
          "output_type": "stream",
          "name": "stdout",
          "text": [
            "\u001b[1m157/157\u001b[0m \u001b[32m━━━━━━━━━━━━━━━━━━━━\u001b[0m\u001b[37m\u001b[0m \u001b[1m1s\u001b[0m 6ms/step\n",
            "Accuracy 0.7088\n",
            "Confusion matrix:\n",
            "[[4773 1463]\n",
            " [1449 2315]]\n"
          ]
        }
      ]
    },
    {
      "cell_type": "code",
      "source": [
        "def predict(question1, question2, threshold, model, verbose=False):\n",
        "\n",
        "    \"Function for predicting if two questions are duplicates.\"\n",
        "\n",
        "    generator = tf.data.Dataset.from_tensor_slices((([question1], [question2]),None)).batch(batch_size=1)\n",
        "\n",
        "    # Call the predict method of your model and save the output into v1v2\n",
        "    v1v2 = model.predict(generator)\n",
        "\n",
        "    # Extract v1 and v2 from the model output\n",
        "    _, n = v1v2.shape\n",
        "    v1 = v1v2[:,:int(n/2)]\n",
        "    v2 = v1v2[:, int(n/2):]\n",
        "\n",
        "    # Take the dot product to compute cos similarity of each pair of entries, v1, v2\n",
        "    # Since v1 and v2 are both vectors, use the function tf.math.reduce_sum instead of tf.linalg.matmul\n",
        "    d = tf.math.reduce_sum(v1 * v2, axis=1)/tf.math.sqrt(tf.math.reduce_sum(v1*v1, axis=1)*tf.math.reduce_sum(v2 * v2, axis=1))\n",
        "\n",
        "    # Is d greater than the threshold?\n",
        "    res = d > threshold\n",
        "\n",
        "    if verbose:\n",
        "        print(\"Q1  = \", question1, \"\\nQ2  = \", question2)\n",
        "        print(\"d   = \", d.numpy())\n",
        "        print(\"res = \", res.numpy())\n",
        "\n",
        "    return res.numpy()"
      ],
      "metadata": {
        "id": "ZlPJNc4rVAkS"
      },
      "execution_count": 29,
      "outputs": []
    },
    {
      "cell_type": "code",
      "source": [
        "question1 = \"When will I see you?\"\n",
        "question2 = \"When can I see you again?\"\n",
        "\n",
        "# 1 means it is duplicated, 0 otherwise\n",
        "predict(question1 , question2, 0.7, model, verbose = True)"
      ],
      "metadata": {
        "colab": {
          "base_uri": "https://localhost:8080/"
        },
        "id": "gOpSlqqBV5Po",
        "outputId": "8c7b8122-1e48-46e9-fe0b-2a78545452dd"
      },
      "execution_count": 37,
      "outputs": [
        {
          "output_type": "stream",
          "name": "stdout",
          "text": [
            "\u001b[1m1/1\u001b[0m \u001b[32m━━━━━━━━━━━━━━━━━━━━\u001b[0m\u001b[37m\u001b[0m \u001b[1m0s\u001b[0m 8ms/step\n",
            "Q1  =  When will I see you? \n",
            "Q2  =  When can I see you again?\n",
            "d   =  [0.8144167]\n",
            "res =  [ True]\n"
          ]
        },
        {
          "output_type": "execute_result",
          "data": {
            "text/plain": [
              "array([ True])"
            ]
          },
          "metadata": {},
          "execution_count": 37
        }
      ]
    },
    {
      "cell_type": "code",
      "source": [],
      "metadata": {
        "id": "MvikClosV9bU"
      },
      "execution_count": 30,
      "outputs": []
    }
  ],
  "metadata": {
    "colab": {
      "provenance": [],
      "gpuType": "T4"
    },
    "kernelspec": {
      "display_name": "Python 3",
      "name": "python3"
    },
    "language_info": {
      "name": "python"
    },
    "accelerator": "GPU"
  },
  "nbformat": 4,
  "nbformat_minor": 0
}
